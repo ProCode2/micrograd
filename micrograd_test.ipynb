{
  "nbformat": 4,
  "nbformat_minor": 0,
  "metadata": {
    "colab": {
      "provenance": []
    },
    "kernelspec": {
      "name": "python3",
      "display_name": "Python 3"
    },
    "language_info": {
      "name": "python"
    }
  },
  "cells": [
    {
      "cell_type": "code",
      "execution_count": 17,
      "metadata": {
        "id": "KmqnWE3kI71p"
      },
      "outputs": [],
      "source": [
        "import math\n",
        "import numpy as np\n",
        "import matplotlib.pyplot as plt\n",
        "%matplotlib inline"
      ]
    },
    {
      "cell_type": "code",
      "source": [
        " class Value:\n",
        "  def __init__(self, data, _children=(), _op='', label=''):\n",
        "    self.data = data\n",
        "    self.grad = 0.0 # grad 0 means changing this variable will not affect the loss fn\n",
        "    # _backward fn is used to calculate the gradients of the variable with respect to result\n",
        "    # this should be set in the fns where we are returning a Value result from inputs\n",
        "    self._backward = lambda: None # for leaf nodes this can be set to None\n",
        "    self._prev = set(_children)\n",
        "    self._op = _op\n",
        "    self.label = label\n",
        "\n",
        "  def __repr__(self):\n",
        "    return f\"Value(data={self.data})\"\n",
        "\n",
        "  def __add__(self, other):\n",
        "    other = other if isinstance(other, Value) else Value(other)\n",
        "    out = Value(self.data + other.data, _children=(self, other), _op='+')\n",
        "    def _backward():\n",
        "      self.grad += 1.0 * out.grad\n",
        "      other.grad += 1.0 * out.grad\n",
        "    out._backward = _backward\n",
        "    return out\n",
        "\n",
        "  def __radd__(self, other): # other + self\n",
        "    return self + other\n",
        "\n",
        "  def __mul__(self, other):\n",
        "    other = other if isinstance(other, Value) else Value(other)\n",
        "    out = Value(self.data * other.data, _children=(self, other), _op='*')\n",
        "    def _backward():\n",
        "      self.grad += other.data * out.grad\n",
        "      other.grad += self.data * out.grad\n",
        "    out._backward = _backward\n",
        "    return out\n",
        "\n",
        "  def __rmul__(self, other): # other * self\n",
        "    return self * other\n",
        "\n",
        "\n",
        "  def __truediv__(self, other): # self / other\n",
        "    return self * other**-1 # a more general case for division\n",
        "\n",
        "  def __neg__(self): # -self\n",
        "    return self * -1\n",
        "\n",
        "  def __sub__(self, other): # self - other\n",
        "    return self + (-other)\n",
        "\n",
        "  def __rsub__(self, other): # other - self\n",
        "    return self + (-other)\n",
        "\n",
        "  def tanh(self):\n",
        "    x = self.data\n",
        "    t = (math.exp(2*x) - 1) / (math.exp(2*x) + 1)\n",
        "    out = Value(t, (self, ), 'tanh')\n",
        "    def _backward():\n",
        "      # d(tanh(x))/dx = 1 - tanh(x)**2\n",
        "      self.grad += (1 - t**2) * out.grad\n",
        "    out._backward = _backward\n",
        "    return out\n",
        "\n",
        "\n",
        "  def exp(self):\n",
        "    x = self.data\n",
        "    out = Value(math.exp(x), (self, ), 'exp')\n",
        "\n",
        "    def _backward():\n",
        "      self.grad += out.data * out.grad\n",
        "    out._backward = _backward\n",
        "\n",
        "    return out\n",
        "\n",
        "  def __pow__(self, other):\n",
        "    assert isinstance(other, (int, float)), \"only supporting int and float as of now\"\n",
        "    out = Value(self.data**other, (self,), f'**{other}')\n",
        "\n",
        "    def _backward():\n",
        "      self.grad += (other * self.data ** (other - 1)) * out.grad\n",
        "    out._backward = _backward\n",
        "    return out\n",
        "\n",
        "\n",
        "  def backward(self):\n",
        "    topo = []\n",
        "    visited = set()\n",
        "    def build_topo(v):\n",
        "      if v not in visited:\n",
        "        visited.add(v)\n",
        "        for child in v._prev:\n",
        "          build_topo(child)\n",
        "        topo.append(v)\n",
        "    build_topo(self)\n",
        "    # dx/dx = 1.0\n",
        "    self.grad = 1.0\n",
        "    for node in reversed(topo):\n",
        "      node._backward()\n",
        "\n",
        "a = Value(2.0, label = 'a')\n",
        "b = Value(-3.0, label = 'b')\n",
        "e = a * b; e.label = 'e'\n",
        "c = Value(10.0, label = 'c')\n",
        "d = e + c; d.label = 'd'\n",
        "f = Value(-2.0, label = 'f')\n",
        "L = d * f; L.label = 'L'\n",
        "L"
      ],
      "metadata": {
        "colab": {
          "base_uri": "https://localhost:8080/"
        },
        "id": "hRitP80JYiFr",
        "outputId": "62df884e-2a9a-4ba7-da54-4bc460387b38"
      },
      "execution_count": 134,
      "outputs": [
        {
          "output_type": "execute_result",
          "data": {
            "text/plain": [
              "Value(data=-8.0)"
            ]
          },
          "metadata": {},
          "execution_count": 134
        }
      ]
    },
    {
      "cell_type": "code",
      "source": [
        "a = Value(2, label='a')\n",
        "2 * a"
      ],
      "metadata": {
        "colab": {
          "base_uri": "https://localhost:8080/"
        },
        "id": "H281e-B_T0K-",
        "outputId": "699e9d91-c2e8-4d1b-dce7-668ea58412b8"
      },
      "execution_count": 91,
      "outputs": [
        {
          "output_type": "execute_result",
          "data": {
            "text/plain": [
              "Value(data=4)"
            ]
          },
          "metadata": {},
          "execution_count": 91
        }
      ]
    },
    {
      "cell_type": "code",
      "source": [
        "from graphviz import Digraph\n",
        "\n",
        "def trace(root):\n",
        "  # builds set of all nodes and edges in a graph\n",
        "  nodes, edges = set(), set()\n",
        "  def build(v):\n",
        "    if v not in nodes:\n",
        "      nodes.add(v)\n",
        "      for child in v._prev:\n",
        "        edges.add((child, v))\n",
        "        build(child)\n",
        "  build(root)\n",
        "  return nodes, edges\n",
        "\n",
        "def draw_dot(root):\n",
        "  dot = Digraph(format='svg', graph_attr={'rankdir': 'LR'})\n",
        "\n",
        "  nodes, edges = trace(root)\n",
        "  for n in nodes:\n",
        "    uid = str(id(n))\n",
        "    # for any value in the graph, create a rectangular ('record') node for it\n",
        "    dot.node(name=uid, label=\"{ %s | data %.4f | grad %.4f }\" % (n.label, n.data, n.grad), shape='record')\n",
        "\n",
        "    if n._op:\n",
        "      # if this value is a result of some operation create a operation node for it\n",
        "      dot.node(name=uid + n._op, label=n._op)\n",
        "      dot.edge(uid + n._op, uid)\n",
        "\n",
        "  for n1, n2 in edges:\n",
        "    # connect n1 to the op node of n2\n",
        "    dot.edge(str(id(n1)), str(id(n2)) + n2._op)\n",
        "\n",
        "  return dot"
      ],
      "metadata": {
        "id": "WFutSqgPamhL"
      },
      "execution_count": 13,
      "outputs": []
    },
    {
      "cell_type": "code",
      "source": [
        "draw_dot(L)"
      ],
      "metadata": {
        "id": "qVQmQB7MtUWH",
        "outputId": "2d764c5e-8d81-406b-bcef-3450ef8ef929",
        "colab": {
          "base_uri": "https://localhost:8080/",
          "height": 247
        }
      },
      "execution_count": 15,
      "outputs": [
        {
          "output_type": "execute_result",
          "data": {
            "image/svg+xml": "<?xml version=\"1.0\" encoding=\"UTF-8\" standalone=\"no\"?>\n<!DOCTYPE svg PUBLIC \"-//W3C//DTD SVG 1.1//EN\"\n \"http://www.w3.org/Graphics/SVG/1.1/DTD/svg11.dtd\">\n<!-- Generated by graphviz version 2.43.0 (0)\n -->\n<!-- Title: %3 Pages: 1 -->\n<svg width=\"1148pt\" height=\"154pt\"\n viewBox=\"0.00 0.00 1148.00 154.00\" xmlns=\"http://www.w3.org/2000/svg\" xmlns:xlink=\"http://www.w3.org/1999/xlink\">\n<g id=\"graph0\" class=\"graph\" transform=\"scale(1 1) rotate(0) translate(4 150)\">\n<title>%3</title>\n<polygon fill=\"white\" stroke=\"transparent\" points=\"-4,4 -4,-150 1144,-150 1144,4 -4,4\"/>\n<!-- 137373529973824 -->\n<g id=\"node1\" class=\"node\">\n<title>137373529973824</title>\n<polygon fill=\"none\" stroke=\"black\" points=\"317,-27.5 317,-63.5 507,-63.5 507,-27.5 317,-27.5\"/>\n<text text-anchor=\"middle\" x=\"328.5\" y=\"-41.8\" font-family=\"Times,serif\" font-size=\"14.00\">e</text>\n<polyline fill=\"none\" stroke=\"black\" points=\"340,-27.5 340,-63.5 \"/>\n<text text-anchor=\"middle\" x=\"382.5\" y=\"-41.8\" font-family=\"Times,serif\" font-size=\"14.00\">data &#45;6.0000</text>\n<polyline fill=\"none\" stroke=\"black\" points=\"425,-27.5 425,-63.5 \"/>\n<text text-anchor=\"middle\" x=\"466\" y=\"-41.8\" font-family=\"Times,serif\" font-size=\"14.00\">grad 0.0000</text>\n</g>\n<!-- 137373529969888+ -->\n<g id=\"node7\" class=\"node\">\n<title>137373529969888+</title>\n<ellipse fill=\"none\" stroke=\"black\" cx=\"571\" cy=\"-72.5\" rx=\"27\" ry=\"18\"/>\n<text text-anchor=\"middle\" x=\"571\" y=\"-68.8\" font-family=\"Times,serif\" font-size=\"14.00\">+</text>\n</g>\n<!-- 137373529973824&#45;&gt;137373529969888+ -->\n<g id=\"edge6\" class=\"edge\">\n<title>137373529973824&#45;&gt;137373529969888+</title>\n<path fill=\"none\" stroke=\"black\" d=\"M507.05,-61.67C516.78,-63.35 526.18,-64.96 534.62,-66.42\"/>\n<polygon fill=\"black\" stroke=\"black\" points=\"534.3,-69.91 544.75,-68.16 535.49,-63.01 534.3,-69.91\"/>\n</g>\n<!-- 137373529973824* -->\n<g id=\"node2\" class=\"node\">\n<title>137373529973824*</title>\n<ellipse fill=\"none\" stroke=\"black\" cx=\"253\" cy=\"-45.5\" rx=\"27\" ry=\"18\"/>\n<text text-anchor=\"middle\" x=\"253\" y=\"-41.8\" font-family=\"Times,serif\" font-size=\"14.00\">*</text>\n</g>\n<!-- 137373529973824*&#45;&gt;137373529973824 -->\n<g id=\"edge1\" class=\"edge\">\n<title>137373529973824*&#45;&gt;137373529973824</title>\n<path fill=\"none\" stroke=\"black\" d=\"M280.28,-45.5C288.05,-45.5 297.08,-45.5 306.68,-45.5\"/>\n<polygon fill=\"black\" stroke=\"black\" points=\"306.88,-49 316.88,-45.5 306.88,-42 306.88,-49\"/>\n</g>\n<!-- 137373529969744 -->\n<g id=\"node3\" class=\"node\">\n<title>137373529969744</title>\n<polygon fill=\"none\" stroke=\"black\" points=\"2.5,-55.5 2.5,-91.5 187.5,-91.5 187.5,-55.5 2.5,-55.5\"/>\n<text text-anchor=\"middle\" x=\"14\" y=\"-69.8\" font-family=\"Times,serif\" font-size=\"14.00\">a</text>\n<polyline fill=\"none\" stroke=\"black\" points=\"25.5,-55.5 25.5,-91.5 \"/>\n<text text-anchor=\"middle\" x=\"65.5\" y=\"-69.8\" font-family=\"Times,serif\" font-size=\"14.00\">data 2.0000</text>\n<polyline fill=\"none\" stroke=\"black\" points=\"105.5,-55.5 105.5,-91.5 \"/>\n<text text-anchor=\"middle\" x=\"146.5\" y=\"-69.8\" font-family=\"Times,serif\" font-size=\"14.00\">grad 0.0000</text>\n</g>\n<!-- 137373529969744&#45;&gt;137373529973824* -->\n<g id=\"edge5\" class=\"edge\">\n<title>137373529969744&#45;&gt;137373529973824*</title>\n<path fill=\"none\" stroke=\"black\" d=\"M187.65,-57.05C197.94,-55.2 207.91,-53.41 216.81,-51.82\"/>\n<polygon fill=\"black\" stroke=\"black\" points=\"217.48,-55.25 226.71,-50.04 216.25,-48.36 217.48,-55.25\"/>\n</g>\n<!-- 137373529970272 -->\n<g id=\"node4\" class=\"node\">\n<title>137373529970272</title>\n<polygon fill=\"none\" stroke=\"black\" points=\"316,-82.5 316,-118.5 508,-118.5 508,-82.5 316,-82.5\"/>\n<text text-anchor=\"middle\" x=\"327.5\" y=\"-96.8\" font-family=\"Times,serif\" font-size=\"14.00\">c</text>\n<polyline fill=\"none\" stroke=\"black\" points=\"339,-82.5 339,-118.5 \"/>\n<text text-anchor=\"middle\" x=\"382.5\" y=\"-96.8\" font-family=\"Times,serif\" font-size=\"14.00\">data 10.0000</text>\n<polyline fill=\"none\" stroke=\"black\" points=\"426,-82.5 426,-118.5 \"/>\n<text text-anchor=\"middle\" x=\"467\" y=\"-96.8\" font-family=\"Times,serif\" font-size=\"14.00\">grad 0.0000</text>\n</g>\n<!-- 137373529970272&#45;&gt;137373529969888+ -->\n<g id=\"edge8\" class=\"edge\">\n<title>137373529970272&#45;&gt;137373529969888+</title>\n<path fill=\"none\" stroke=\"black\" d=\"M508.4,-83.49C517.69,-81.83 526.64,-80.23 534.71,-78.79\"/>\n<polygon fill=\"black\" stroke=\"black\" points=\"535.53,-82.2 544.76,-77 534.31,-75.31 535.53,-82.2\"/>\n</g>\n<!-- 137373529971904 -->\n<g id=\"node5\" class=\"node\">\n<title>137373529971904</title>\n<polygon fill=\"none\" stroke=\"black\" points=\"0,-0.5 0,-36.5 190,-36.5 190,-0.5 0,-0.5\"/>\n<text text-anchor=\"middle\" x=\"11.5\" y=\"-14.8\" font-family=\"Times,serif\" font-size=\"14.00\">b</text>\n<polyline fill=\"none\" stroke=\"black\" points=\"23,-0.5 23,-36.5 \"/>\n<text text-anchor=\"middle\" x=\"65.5\" y=\"-14.8\" font-family=\"Times,serif\" font-size=\"14.00\">data &#45;3.0000</text>\n<polyline fill=\"none\" stroke=\"black\" points=\"108,-0.5 108,-36.5 \"/>\n<text text-anchor=\"middle\" x=\"149\" y=\"-14.8\" font-family=\"Times,serif\" font-size=\"14.00\">grad 0.0000</text>\n</g>\n<!-- 137373529971904&#45;&gt;137373529973824* -->\n<g id=\"edge4\" class=\"edge\">\n<title>137373529971904&#45;&gt;137373529973824*</title>\n<path fill=\"none\" stroke=\"black\" d=\"M190.34,-34.83C199.62,-36.44 208.58,-37.99 216.66,-39.38\"/>\n<polygon fill=\"black\" stroke=\"black\" points=\"216.27,-42.87 226.72,-41.12 217.46,-35.97 216.27,-42.87\"/>\n</g>\n<!-- 137373529969888 -->\n<g id=\"node6\" class=\"node\">\n<title>137373529969888</title>\n<polygon fill=\"none\" stroke=\"black\" points=\"635.5,-54.5 635.5,-90.5 820.5,-90.5 820.5,-54.5 635.5,-54.5\"/>\n<text text-anchor=\"middle\" x=\"647\" y=\"-68.8\" font-family=\"Times,serif\" font-size=\"14.00\">d</text>\n<polyline fill=\"none\" stroke=\"black\" points=\"658.5,-54.5 658.5,-90.5 \"/>\n<text text-anchor=\"middle\" x=\"698.5\" y=\"-68.8\" font-family=\"Times,serif\" font-size=\"14.00\">data 4.0000</text>\n<polyline fill=\"none\" stroke=\"black\" points=\"738.5,-54.5 738.5,-90.5 \"/>\n<text text-anchor=\"middle\" x=\"779.5\" y=\"-68.8\" font-family=\"Times,serif\" font-size=\"14.00\">grad 0.0000</text>\n</g>\n<!-- 137373529980784* -->\n<g id=\"node10\" class=\"node\">\n<title>137373529980784*</title>\n<ellipse fill=\"none\" stroke=\"black\" cx=\"885\" cy=\"-99.5\" rx=\"27\" ry=\"18\"/>\n<text text-anchor=\"middle\" x=\"885\" y=\"-95.8\" font-family=\"Times,serif\" font-size=\"14.00\">*</text>\n</g>\n<!-- 137373529969888&#45;&gt;137373529980784* -->\n<g id=\"edge9\" class=\"edge\">\n<title>137373529969888&#45;&gt;137373529980784*</title>\n<path fill=\"none\" stroke=\"black\" d=\"M820.51,-88.44C830.48,-90.18 840.13,-91.86 848.77,-93.36\"/>\n<polygon fill=\"black\" stroke=\"black\" points=\"848.31,-96.84 858.77,-95.1 849.52,-89.94 848.31,-96.84\"/>\n</g>\n<!-- 137373529969888+&#45;&gt;137373529969888 -->\n<g id=\"edge2\" class=\"edge\">\n<title>137373529969888+&#45;&gt;137373529969888</title>\n<path fill=\"none\" stroke=\"black\" d=\"M598.29,-72.5C606.26,-72.5 615.54,-72.5 625.39,-72.5\"/>\n<polygon fill=\"black\" stroke=\"black\" points=\"625.41,-76 635.41,-72.5 625.41,-69 625.41,-76\"/>\n</g>\n<!-- 137373529972000 -->\n<g id=\"node8\" class=\"node\">\n<title>137373529972000</title>\n<polygon fill=\"none\" stroke=\"black\" points=\"634,-109.5 634,-145.5 822,-145.5 822,-109.5 634,-109.5\"/>\n<text text-anchor=\"middle\" x=\"644.5\" y=\"-123.8\" font-family=\"Times,serif\" font-size=\"14.00\">f</text>\n<polyline fill=\"none\" stroke=\"black\" points=\"655,-109.5 655,-145.5 \"/>\n<text text-anchor=\"middle\" x=\"697.5\" y=\"-123.8\" font-family=\"Times,serif\" font-size=\"14.00\">data &#45;2.0000</text>\n<polyline fill=\"none\" stroke=\"black\" points=\"740,-109.5 740,-145.5 \"/>\n<text text-anchor=\"middle\" x=\"781\" y=\"-123.8\" font-family=\"Times,serif\" font-size=\"14.00\">grad 0.0000</text>\n</g>\n<!-- 137373529972000&#45;&gt;137373529980784* -->\n<g id=\"edge7\" class=\"edge\">\n<title>137373529972000&#45;&gt;137373529980784*</title>\n<path fill=\"none\" stroke=\"black\" d=\"M822.29,-110.65C831.57,-108.97 840.52,-107.35 848.61,-105.89\"/>\n<polygon fill=\"black\" stroke=\"black\" points=\"849.46,-109.3 858.68,-104.07 848.21,-102.41 849.46,-109.3\"/>\n</g>\n<!-- 137373529980784 -->\n<g id=\"node9\" class=\"node\">\n<title>137373529980784</title>\n<polygon fill=\"none\" stroke=\"black\" points=\"948,-81.5 948,-117.5 1140,-117.5 1140,-81.5 948,-81.5\"/>\n<text text-anchor=\"middle\" x=\"960.5\" y=\"-95.8\" font-family=\"Times,serif\" font-size=\"14.00\">L</text>\n<polyline fill=\"none\" stroke=\"black\" points=\"973,-81.5 973,-117.5 \"/>\n<text text-anchor=\"middle\" x=\"1015.5\" y=\"-95.8\" font-family=\"Times,serif\" font-size=\"14.00\">data &#45;8.0000</text>\n<polyline fill=\"none\" stroke=\"black\" points=\"1058,-81.5 1058,-117.5 \"/>\n<text text-anchor=\"middle\" x=\"1099\" y=\"-95.8\" font-family=\"Times,serif\" font-size=\"14.00\">grad 0.0000</text>\n</g>\n<!-- 137373529980784*&#45;&gt;137373529980784 -->\n<g id=\"edge3\" class=\"edge\">\n<title>137373529980784*&#45;&gt;137373529980784</title>\n<path fill=\"none\" stroke=\"black\" d=\"M912.28,-99.5C919.78,-99.5 928.44,-99.5 937.67,-99.5\"/>\n<polygon fill=\"black\" stroke=\"black\" points=\"937.87,-103 947.87,-99.5 937.87,-96 937.87,-103\"/>\n</g>\n</g>\n</svg>\n",
            "text/plain": [
              "<graphviz.graphs.Digraph at 0x7cf0c47497e0>"
            ]
          },
          "metadata": {},
          "execution_count": 15
        }
      ]
    },
    {
      "cell_type": "markdown",
      "source": [
        "- find dL/dL, which is 1\n",
        "- find dL/dd, which is -2, because L = f * d\n",
        "- find dL/df, whcih is 4, because L = f * d\n",
        "- find dL/dc, which is dL/dd * dd/dc, which is -2 * 1, because d = c + e\n",
        "- find dL/de, which is dL/dd * dd/de, which is -2 * 1, because d = c + e\n",
        "- find dL/da, which is dL/de * de/da, which is -2 * -3, because e = a * b\n",
        "- find dL/db, which is dL/de * de/db, which is -2 * 2, because e = a * b"
      ],
      "metadata": {
        "id": "s6NO2KJryQuW"
      }
    },
    {
      "cell_type": "code",
      "source": [
        "# Inputs x1, x2\n",
        "x1 = Value(2.0, label='x1')\n",
        "x2 = Value(0.0, label='x2')\n",
        "# weights\n",
        "w1 = Value(-3.0, label='w1')\n",
        "w2 = Value(1.0, label='w2')\n",
        "# bias\n",
        "b = Value(6.8813735870195432, label='b')\n",
        "\n",
        "# x1*w1 + x2*w2 + b\n",
        "x1w1 = x1 * w1; x1w1.label = 'x1*w1'\n",
        "x2w2 = x2 * w2; x2w2.label = 'x2*w2'\n",
        "x1w1x2w2 = x1w1 + x2w2; x1w1x2w2.label = 'x1w1 + x2w2'\n",
        "n = x1w1x2w2 + b; n.label = 'n'\n",
        "# -----tanh------\n",
        "e = (2 * n).exp(); e.label = 'e'\n",
        "o = (e - 1) / (e + 1); o.label = 'o'\n",
        "# ---------------\n",
        "o.backward()"
      ],
      "metadata": {
        "id": "LVcM5WTr3nr4"
      },
      "execution_count": 93,
      "outputs": []
    },
    {
      "cell_type": "code",
      "source": [
        "draw_dot(o)"
      ],
      "metadata": {
        "colab": {
          "base_uri": "https://localhost:8080/",
          "height": 322
        },
        "id": "kZcqC2t2-Qkn",
        "outputId": "4eafd9a8-2c4c-45c4-b184-05adcb95c35f"
      },
      "execution_count": 94,
      "outputs": [
        {
          "output_type": "execute_result",
          "data": {
            "image/svg+xml": "<?xml version=\"1.0\" encoding=\"UTF-8\" standalone=\"no\"?>\n<!DOCTYPE svg PUBLIC \"-//W3C//DTD SVG 1.1//EN\"\n \"http://www.w3.org/Graphics/SVG/1.1/DTD/svg11.dtd\">\n<!-- Generated by graphviz version 2.43.0 (0)\n -->\n<!-- Title: %3 Pages: 1 -->\n<svg width=\"2930pt\" height=\"210pt\"\n viewBox=\"0.00 0.00 2930.00 210.00\" xmlns=\"http://www.w3.org/2000/svg\" xmlns:xlink=\"http://www.w3.org/1999/xlink\">\n<g id=\"graph0\" class=\"graph\" transform=\"scale(1 1) rotate(0) translate(4 206)\">\n<title>%3</title>\n<polygon fill=\"white\" stroke=\"transparent\" points=\"-4,4 -4,-206 2926,-206 2926,4 -4,4\"/>\n<!-- 137372504060928 -->\n<g id=\"node1\" class=\"node\">\n<title>137372504060928</title>\n<polygon fill=\"none\" stroke=\"black\" points=\"1058.5,-109.5 1058.5,-145.5 1240.5,-145.5 1240.5,-109.5 1058.5,-109.5\"/>\n<text text-anchor=\"middle\" x=\"1068.5\" y=\"-123.8\" font-family=\"Times,serif\" font-size=\"14.00\"> </text>\n<polyline fill=\"none\" stroke=\"black\" points=\"1078.5,-109.5 1078.5,-145.5 \"/>\n<text text-anchor=\"middle\" x=\"1118.5\" y=\"-123.8\" font-family=\"Times,serif\" font-size=\"14.00\">data 2.0000</text>\n<polyline fill=\"none\" stroke=\"black\" points=\"1158.5,-109.5 1158.5,-145.5 \"/>\n<text text-anchor=\"middle\" x=\"1199.5\" y=\"-123.8\" font-family=\"Times,serif\" font-size=\"14.00\">grad 0.2203</text>\n</g>\n<!-- 137372504051520* -->\n<g id=\"node18\" class=\"node\">\n<title>137372504051520*</title>\n<ellipse fill=\"none\" stroke=\"black\" cx=\"1305\" cy=\"-99.5\" rx=\"27\" ry=\"18\"/>\n<text text-anchor=\"middle\" x=\"1305\" y=\"-95.8\" font-family=\"Times,serif\" font-size=\"14.00\">*</text>\n</g>\n<!-- 137372504060928&#45;&gt;137372504051520* -->\n<g id=\"edge12\" class=\"edge\">\n<title>137372504060928&#45;&gt;137372504051520*</title>\n<path fill=\"none\" stroke=\"black\" d=\"M1240.68,-111.05C1250.61,-109.24 1260.23,-107.48 1268.84,-105.91\"/>\n<polygon fill=\"black\" stroke=\"black\" points=\"1269.6,-109.33 1278.81,-104.09 1268.35,-102.45 1269.6,-109.33\"/>\n</g>\n<!-- 137372504051232 -->\n<g id=\"node2\" class=\"node\">\n<title>137372504051232</title>\n<polygon fill=\"none\" stroke=\"black\" points=\"1989,-108.5 1989,-144.5 2175,-144.5 2175,-108.5 1989,-108.5\"/>\n<text text-anchor=\"middle\" x=\"1999\" y=\"-122.8\" font-family=\"Times,serif\" font-size=\"14.00\"> </text>\n<polyline fill=\"none\" stroke=\"black\" points=\"2009,-108.5 2009,-144.5 \"/>\n<text text-anchor=\"middle\" x=\"2049\" y=\"-122.8\" font-family=\"Times,serif\" font-size=\"14.00\">data 6.8284</text>\n<polyline fill=\"none\" stroke=\"black\" points=\"2089,-108.5 2089,-144.5 \"/>\n<text text-anchor=\"middle\" x=\"2132\" y=\"-122.8\" font-family=\"Times,serif\" font-size=\"14.00\">grad &#45;0.1036</text>\n</g>\n<!-- 137372504050656**&#45;1 -->\n<g id=\"node28\" class=\"node\">\n<title>137372504050656**&#45;1</title>\n<ellipse fill=\"none\" stroke=\"black\" cx=\"2302\" cy=\"-126.5\" rx=\"27\" ry=\"18\"/>\n<text text-anchor=\"middle\" x=\"2302\" y=\"-122.8\" font-family=\"Times,serif\" font-size=\"14.00\">**&#45;1</text>\n</g>\n<!-- 137372504051232&#45;&gt;137372504050656**&#45;1 -->\n<g id=\"edge16\" class=\"edge\">\n<title>137372504051232&#45;&gt;137372504050656**&#45;1</title>\n<path fill=\"none\" stroke=\"black\" d=\"M2175.14,-126.5C2206.72,-126.5 2240.24,-126.5 2264.74,-126.5\"/>\n<polygon fill=\"black\" stroke=\"black\" points=\"2264.98,-130 2274.98,-126.5 2264.98,-123 2264.98,-130\"/>\n</g>\n<!-- 137372504051232+ -->\n<g id=\"node3\" class=\"node\">\n<title>137372504051232+</title>\n<ellipse fill=\"none\" stroke=\"black\" cx=\"1926\" cy=\"-126.5\" rx=\"27\" ry=\"18\"/>\n<text text-anchor=\"middle\" x=\"1926\" y=\"-122.8\" font-family=\"Times,serif\" font-size=\"14.00\">+</text>\n</g>\n<!-- 137372504051232+&#45;&gt;137372504051232 -->\n<g id=\"edge1\" class=\"edge\">\n<title>137372504051232+&#45;&gt;137372504051232</title>\n<path fill=\"none\" stroke=\"black\" d=\"M1953.12,-126.5C1960.62,-126.5 1969.29,-126.5 1978.5,-126.5\"/>\n<polygon fill=\"black\" stroke=\"black\" points=\"1978.69,-130 1988.69,-126.5 1978.69,-123 1978.69,-130\"/>\n</g>\n<!-- 137372504055360 -->\n<g id=\"node4\" class=\"node\">\n<title>137372504055360</title>\n<polygon fill=\"none\" stroke=\"black\" points=\"2737,-80.5 2737,-116.5 2922,-116.5 2922,-80.5 2737,-80.5\"/>\n<text text-anchor=\"middle\" x=\"2748.5\" y=\"-94.8\" font-family=\"Times,serif\" font-size=\"14.00\">o</text>\n<polyline fill=\"none\" stroke=\"black\" points=\"2760,-80.5 2760,-116.5 \"/>\n<text text-anchor=\"middle\" x=\"2800\" y=\"-94.8\" font-family=\"Times,serif\" font-size=\"14.00\">data 0.7071</text>\n<polyline fill=\"none\" stroke=\"black\" points=\"2840,-80.5 2840,-116.5 \"/>\n<text text-anchor=\"middle\" x=\"2881\" y=\"-94.8\" font-family=\"Times,serif\" font-size=\"14.00\">grad 1.0000</text>\n</g>\n<!-- 137372504055360* -->\n<g id=\"node5\" class=\"node\">\n<title>137372504055360*</title>\n<ellipse fill=\"none\" stroke=\"black\" cx=\"2674\" cy=\"-98.5\" rx=\"27\" ry=\"18\"/>\n<text text-anchor=\"middle\" x=\"2674\" y=\"-94.8\" font-family=\"Times,serif\" font-size=\"14.00\">*</text>\n</g>\n<!-- 137372504055360*&#45;&gt;137372504055360 -->\n<g id=\"edge2\" class=\"edge\">\n<title>137372504055360*&#45;&gt;137372504055360</title>\n<path fill=\"none\" stroke=\"black\" d=\"M2701.04,-98.5C2708.58,-98.5 2717.3,-98.5 2726.57,-98.5\"/>\n<polygon fill=\"black\" stroke=\"black\" points=\"2726.81,-102 2736.81,-98.5 2726.81,-95 2726.81,-102\"/>\n</g>\n<!-- 137372504051088 -->\n<g id=\"node6\" class=\"node\">\n<title>137372504051088</title>\n<polygon fill=\"none\" stroke=\"black\" points=\"1676,-26.5 1676,-62.5 1863,-62.5 1863,-26.5 1676,-26.5\"/>\n<text text-anchor=\"middle\" x=\"1686\" y=\"-40.8\" font-family=\"Times,serif\" font-size=\"14.00\"> </text>\n<polyline fill=\"none\" stroke=\"black\" points=\"1696,-26.5 1696,-62.5 \"/>\n<text text-anchor=\"middle\" x=\"1738.5\" y=\"-40.8\" font-family=\"Times,serif\" font-size=\"14.00\">data &#45;1.0000</text>\n<polyline fill=\"none\" stroke=\"black\" points=\"1781,-26.5 1781,-62.5 \"/>\n<text text-anchor=\"middle\" x=\"1822\" y=\"-40.8\" font-family=\"Times,serif\" font-size=\"14.00\">grad 0.1464</text>\n</g>\n<!-- 137372504050848+ -->\n<g id=\"node9\" class=\"node\">\n<title>137372504050848+</title>\n<ellipse fill=\"none\" stroke=\"black\" cx=\"1926\" cy=\"-71.5\" rx=\"27\" ry=\"18\"/>\n<text text-anchor=\"middle\" x=\"1926\" y=\"-67.8\" font-family=\"Times,serif\" font-size=\"14.00\">+</text>\n</g>\n<!-- 137372504051088&#45;&gt;137372504050848+ -->\n<g id=\"edge22\" class=\"edge\">\n<title>137372504051088&#45;&gt;137372504050848+</title>\n<path fill=\"none\" stroke=\"black\" d=\"M1863.05,-60.67C1872.34,-62.3 1881.33,-63.87 1889.44,-65.29\"/>\n<polygon fill=\"black\" stroke=\"black\" points=\"1889.1,-68.78 1899.55,-67.05 1890.3,-61.88 1889.1,-68.78\"/>\n</g>\n<!-- 137372504048784 -->\n<g id=\"node7\" class=\"node\">\n<title>137372504048784</title>\n<polygon fill=\"none\" stroke=\"black\" points=\"0,-165.5 0,-201.5 200,-201.5 200,-165.5 0,-165.5\"/>\n<text text-anchor=\"middle\" x=\"16.5\" y=\"-179.8\" font-family=\"Times,serif\" font-size=\"14.00\">w1</text>\n<polyline fill=\"none\" stroke=\"black\" points=\"33,-165.5 33,-201.5 \"/>\n<text text-anchor=\"middle\" x=\"75.5\" y=\"-179.8\" font-family=\"Times,serif\" font-size=\"14.00\">data &#45;3.0000</text>\n<polyline fill=\"none\" stroke=\"black\" points=\"118,-165.5 118,-201.5 \"/>\n<text text-anchor=\"middle\" x=\"159\" y=\"-179.8\" font-family=\"Times,serif\" font-size=\"14.00\">grad 1.0000</text>\n</g>\n<!-- 137372504060208* -->\n<g id=\"node16\" class=\"node\">\n<title>137372504060208*</title>\n<ellipse fill=\"none\" stroke=\"black\" cx=\"263\" cy=\"-128.5\" rx=\"27\" ry=\"18\"/>\n<text text-anchor=\"middle\" x=\"263\" y=\"-124.8\" font-family=\"Times,serif\" font-size=\"14.00\">*</text>\n</g>\n<!-- 137372504048784&#45;&gt;137372504060208* -->\n<g id=\"edge13\" class=\"edge\">\n<title>137372504048784&#45;&gt;137372504060208*</title>\n<path fill=\"none\" stroke=\"black\" d=\"M172.53,-165.44C181.84,-162.67 191.2,-159.67 200,-156.5 210.53,-152.71 221.75,-147.9 231.72,-143.33\"/>\n<polygon fill=\"black\" stroke=\"black\" points=\"233.25,-146.48 240.82,-139.07 230.28,-140.14 233.25,-146.48\"/>\n</g>\n<!-- 137372504050848 -->\n<g id=\"node8\" class=\"node\">\n<title>137372504050848</title>\n<polygon fill=\"none\" stroke=\"black\" points=\"2211,-53.5 2211,-89.5 2393,-89.5 2393,-53.5 2211,-53.5\"/>\n<text text-anchor=\"middle\" x=\"2221\" y=\"-67.8\" font-family=\"Times,serif\" font-size=\"14.00\"> </text>\n<polyline fill=\"none\" stroke=\"black\" points=\"2231,-53.5 2231,-89.5 \"/>\n<text text-anchor=\"middle\" x=\"2271\" y=\"-67.8\" font-family=\"Times,serif\" font-size=\"14.00\">data 4.8284</text>\n<polyline fill=\"none\" stroke=\"black\" points=\"2311,-53.5 2311,-89.5 \"/>\n<text text-anchor=\"middle\" x=\"2352\" y=\"-67.8\" font-family=\"Times,serif\" font-size=\"14.00\">grad 0.1464</text>\n</g>\n<!-- 137372504050848&#45;&gt;137372504055360* -->\n<g id=\"edge17\" class=\"edge\">\n<title>137372504050848&#45;&gt;137372504055360*</title>\n<path fill=\"none\" stroke=\"black\" d=\"M2393.04,-78.07C2471.41,-83.79 2580.98,-91.79 2636.96,-95.87\"/>\n<polygon fill=\"black\" stroke=\"black\" points=\"2636.87,-99.37 2647.1,-96.61 2637.38,-92.39 2636.87,-99.37\"/>\n</g>\n<!-- 137372504050848+&#45;&gt;137372504050848 -->\n<g id=\"edge3\" class=\"edge\">\n<title>137372504050848+&#45;&gt;137372504050848</title>\n<path fill=\"none\" stroke=\"black\" d=\"M1953,-71.5C2003.46,-71.5 2117.06,-71.5 2200.81,-71.5\"/>\n<polygon fill=\"black\" stroke=\"black\" points=\"2200.87,-75 2210.87,-71.5 2200.87,-68 2200.87,-75\"/>\n</g>\n<!-- 137372504057040 -->\n<g id=\"node10\" class=\"node\">\n<title>137372504057040</title>\n<polygon fill=\"none\" stroke=\"black\" points=\"672,-82.5 672,-118.5 931,-118.5 931,-82.5 672,-82.5\"/>\n<text text-anchor=\"middle\" x=\"718\" y=\"-96.8\" font-family=\"Times,serif\" font-size=\"14.00\">x1w1 + x2w2</text>\n<polyline fill=\"none\" stroke=\"black\" points=\"764,-82.5 764,-118.5 \"/>\n<text text-anchor=\"middle\" x=\"806.5\" y=\"-96.8\" font-family=\"Times,serif\" font-size=\"14.00\">data &#45;6.0000</text>\n<polyline fill=\"none\" stroke=\"black\" points=\"849,-82.5 849,-118.5 \"/>\n<text text-anchor=\"middle\" x=\"890\" y=\"-96.8\" font-family=\"Times,serif\" font-size=\"14.00\">grad 0.5000</text>\n</g>\n<!-- 137372504057280+ -->\n<g id=\"node26\" class=\"node\">\n<title>137372504057280+</title>\n<ellipse fill=\"none\" stroke=\"black\" cx=\"994\" cy=\"-72.5\" rx=\"27\" ry=\"18\"/>\n<text text-anchor=\"middle\" x=\"994\" y=\"-68.8\" font-family=\"Times,serif\" font-size=\"14.00\">+</text>\n</g>\n<!-- 137372504057040&#45;&gt;137372504057280+ -->\n<g id=\"edge18\" class=\"edge\">\n<title>137372504057040&#45;&gt;137372504057280+</title>\n<path fill=\"none\" stroke=\"black\" d=\"M925.03,-82.49C936.7,-80.77 947.77,-79.15 957.46,-77.72\"/>\n<polygon fill=\"black\" stroke=\"black\" points=\"958.01,-81.18 967.4,-76.26 957,-74.25 958.01,-81.18\"/>\n</g>\n<!-- 137372504057040+ -->\n<g id=\"node11\" class=\"node\">\n<title>137372504057040+</title>\n<ellipse fill=\"none\" stroke=\"black\" cx=\"609\" cy=\"-100.5\" rx=\"27\" ry=\"18\"/>\n<text text-anchor=\"middle\" x=\"609\" y=\"-96.8\" font-family=\"Times,serif\" font-size=\"14.00\">+</text>\n</g>\n<!-- 137372504057040+&#45;&gt;137372504057040 -->\n<g id=\"edge4\" class=\"edge\">\n<title>137372504057040+&#45;&gt;137372504057040</title>\n<path fill=\"none\" stroke=\"black\" d=\"M636.09,-100.5C643.58,-100.5 652.3,-100.5 661.75,-100.5\"/>\n<polygon fill=\"black\" stroke=\"black\" points=\"661.84,-104 671.84,-100.5 661.84,-97 661.84,-104\"/>\n</g>\n<!-- 137372504051472 -->\n<g id=\"node12\" class=\"node\">\n<title>137372504051472</title>\n<polygon fill=\"none\" stroke=\"black\" points=\"1677,-81.5 1677,-117.5 1862,-117.5 1862,-81.5 1677,-81.5\"/>\n<text text-anchor=\"middle\" x=\"1688.5\" y=\"-95.8\" font-family=\"Times,serif\" font-size=\"14.00\">e</text>\n<polyline fill=\"none\" stroke=\"black\" points=\"1700,-81.5 1700,-117.5 \"/>\n<text text-anchor=\"middle\" x=\"1740\" y=\"-95.8\" font-family=\"Times,serif\" font-size=\"14.00\">data 5.8284</text>\n<polyline fill=\"none\" stroke=\"black\" points=\"1780,-81.5 1780,-117.5 \"/>\n<text text-anchor=\"middle\" x=\"1821\" y=\"-95.8\" font-family=\"Times,serif\" font-size=\"14.00\">grad 0.0429</text>\n</g>\n<!-- 137372504051472&#45;&gt;137372504051232+ -->\n<g id=\"edge23\" class=\"edge\">\n<title>137372504051472&#45;&gt;137372504051232+</title>\n<path fill=\"none\" stroke=\"black\" d=\"M1862.16,-115.52C1871.84,-117.21 1881.22,-118.85 1889.64,-120.32\"/>\n<polygon fill=\"black\" stroke=\"black\" points=\"1889.29,-123.81 1899.75,-122.09 1890.5,-116.92 1889.29,-123.81\"/>\n</g>\n<!-- 137372504051472&#45;&gt;137372504050848+ -->\n<g id=\"edge26\" class=\"edge\">\n<title>137372504051472&#45;&gt;137372504050848+</title>\n<path fill=\"none\" stroke=\"black\" d=\"M1862.16,-82.89C1871.84,-81.13 1881.22,-79.43 1889.64,-77.91\"/>\n<polygon fill=\"black\" stroke=\"black\" points=\"1890.53,-81.3 1899.75,-76.08 1889.28,-74.42 1890.53,-81.3\"/>\n</g>\n<!-- 137372504051472exp -->\n<g id=\"node13\" class=\"node\">\n<title>137372504051472exp</title>\n<ellipse fill=\"none\" stroke=\"black\" cx=\"1613\" cy=\"-99.5\" rx=\"27\" ry=\"18\"/>\n<text text-anchor=\"middle\" x=\"1613\" y=\"-95.8\" font-family=\"Times,serif\" font-size=\"14.00\">exp</text>\n</g>\n<!-- 137372504051472exp&#45;&gt;137372504051472 -->\n<g id=\"edge5\" class=\"edge\">\n<title>137372504051472exp&#45;&gt;137372504051472</title>\n<path fill=\"none\" stroke=\"black\" d=\"M1640.21,-99.5C1648,-99.5 1657.05,-99.5 1666.67,-99.5\"/>\n<polygon fill=\"black\" stroke=\"black\" points=\"1666.87,-103 1676.87,-99.5 1666.87,-96 1666.87,-103\"/>\n</g>\n<!-- 137372504048928 -->\n<g id=\"node14\" class=\"node\">\n<title>137372504048928</title>\n<polygon fill=\"none\" stroke=\"black\" points=\"2,-110.5 2,-146.5 198,-146.5 198,-110.5 2,-110.5\"/>\n<text text-anchor=\"middle\" x=\"17\" y=\"-124.8\" font-family=\"Times,serif\" font-size=\"14.00\">x1</text>\n<polyline fill=\"none\" stroke=\"black\" points=\"32,-110.5 32,-146.5 \"/>\n<text text-anchor=\"middle\" x=\"72\" y=\"-124.8\" font-family=\"Times,serif\" font-size=\"14.00\">data 2.0000</text>\n<polyline fill=\"none\" stroke=\"black\" points=\"112,-110.5 112,-146.5 \"/>\n<text text-anchor=\"middle\" x=\"155\" y=\"-124.8\" font-family=\"Times,serif\" font-size=\"14.00\">grad &#45;1.5000</text>\n</g>\n<!-- 137372504048928&#45;&gt;137372504060208* -->\n<g id=\"edge19\" class=\"edge\">\n<title>137372504048928&#45;&gt;137372504060208*</title>\n<path fill=\"none\" stroke=\"black\" d=\"M198.37,-128.5C208.05,-128.5 217.4,-128.5 225.8,-128.5\"/>\n<polygon fill=\"black\" stroke=\"black\" points=\"225.91,-132 235.91,-128.5 225.91,-125 225.91,-132\"/>\n</g>\n<!-- 137372504060208 -->\n<g id=\"node15\" class=\"node\">\n<title>137372504060208</title>\n<polygon fill=\"none\" stroke=\"black\" points=\"326,-110.5 326,-146.5 546,-146.5 546,-110.5 326,-110.5\"/>\n<text text-anchor=\"middle\" x=\"352.5\" y=\"-124.8\" font-family=\"Times,serif\" font-size=\"14.00\">x1*w1</text>\n<polyline fill=\"none\" stroke=\"black\" points=\"379,-110.5 379,-146.5 \"/>\n<text text-anchor=\"middle\" x=\"421.5\" y=\"-124.8\" font-family=\"Times,serif\" font-size=\"14.00\">data &#45;6.0000</text>\n<polyline fill=\"none\" stroke=\"black\" points=\"464,-110.5 464,-146.5 \"/>\n<text text-anchor=\"middle\" x=\"505\" y=\"-124.8\" font-family=\"Times,serif\" font-size=\"14.00\">grad 0.5000</text>\n</g>\n<!-- 137372504060208&#45;&gt;137372504057040+ -->\n<g id=\"edge25\" class=\"edge\">\n<title>137372504060208&#45;&gt;137372504057040+</title>\n<path fill=\"none\" stroke=\"black\" d=\"M546.27,-110.61C555.64,-109.07 564.6,-107.61 572.65,-106.29\"/>\n<polygon fill=\"black\" stroke=\"black\" points=\"573.35,-109.72 582.65,-104.65 572.22,-102.81 573.35,-109.72\"/>\n</g>\n<!-- 137372504060208*&#45;&gt;137372504060208 -->\n<g id=\"edge6\" class=\"edge\">\n<title>137372504060208*&#45;&gt;137372504060208</title>\n<path fill=\"none\" stroke=\"black\" d=\"M290.34,-128.5C297.77,-128.5 306.37,-128.5 315.6,-128.5\"/>\n<polygon fill=\"black\" stroke=\"black\" points=\"315.84,-132 325.84,-128.5 315.84,-125 315.84,-132\"/>\n</g>\n<!-- 137372504051520 -->\n<g id=\"node17\" class=\"node\">\n<title>137372504051520</title>\n<polygon fill=\"none\" stroke=\"black\" points=\"1368,-81.5 1368,-117.5 1550,-117.5 1550,-81.5 1368,-81.5\"/>\n<text text-anchor=\"middle\" x=\"1378\" y=\"-95.8\" font-family=\"Times,serif\" font-size=\"14.00\"> </text>\n<polyline fill=\"none\" stroke=\"black\" points=\"1388,-81.5 1388,-117.5 \"/>\n<text text-anchor=\"middle\" x=\"1428\" y=\"-95.8\" font-family=\"Times,serif\" font-size=\"14.00\">data 1.7627</text>\n<polyline fill=\"none\" stroke=\"black\" points=\"1468,-81.5 1468,-117.5 \"/>\n<text text-anchor=\"middle\" x=\"1509\" y=\"-95.8\" font-family=\"Times,serif\" font-size=\"14.00\">grad 0.2500</text>\n</g>\n<!-- 137372504051520&#45;&gt;137372504051472exp -->\n<g id=\"edge11\" class=\"edge\">\n<title>137372504051520&#45;&gt;137372504051472exp</title>\n<path fill=\"none\" stroke=\"black\" d=\"M1550.18,-99.5C1559.14,-99.5 1567.83,-99.5 1575.73,-99.5\"/>\n<polygon fill=\"black\" stroke=\"black\" points=\"1575.96,-103 1585.96,-99.5 1575.96,-96 1575.96,-103\"/>\n</g>\n<!-- 137372504051520*&#45;&gt;137372504051520 -->\n<g id=\"edge7\" class=\"edge\">\n<title>137372504051520*&#45;&gt;137372504051520</title>\n<path fill=\"none\" stroke=\"black\" d=\"M1332.13,-99.5C1339.67,-99.5 1348.39,-99.5 1357.64,-99.5\"/>\n<polygon fill=\"black\" stroke=\"black\" points=\"1357.87,-103 1367.87,-99.5 1357.87,-96 1357.87,-103\"/>\n</g>\n<!-- 137372504048976 -->\n<g id=\"node19\" class=\"node\">\n<title>137372504048976</title>\n<polygon fill=\"none\" stroke=\"black\" points=\"2.5,-55.5 2.5,-91.5 197.5,-91.5 197.5,-55.5 2.5,-55.5\"/>\n<text text-anchor=\"middle\" x=\"19\" y=\"-69.8\" font-family=\"Times,serif\" font-size=\"14.00\">w2</text>\n<polyline fill=\"none\" stroke=\"black\" points=\"35.5,-55.5 35.5,-91.5 \"/>\n<text text-anchor=\"middle\" x=\"75.5\" y=\"-69.8\" font-family=\"Times,serif\" font-size=\"14.00\">data 1.0000</text>\n<polyline fill=\"none\" stroke=\"black\" points=\"115.5,-55.5 115.5,-91.5 \"/>\n<text text-anchor=\"middle\" x=\"156.5\" y=\"-69.8\" font-family=\"Times,serif\" font-size=\"14.00\">grad 0.0000</text>\n</g>\n<!-- 137372504057232* -->\n<g id=\"node23\" class=\"node\">\n<title>137372504057232*</title>\n<ellipse fill=\"none\" stroke=\"black\" cx=\"263\" cy=\"-73.5\" rx=\"27\" ry=\"18\"/>\n<text text-anchor=\"middle\" x=\"263\" y=\"-69.8\" font-family=\"Times,serif\" font-size=\"14.00\">*</text>\n</g>\n<!-- 137372504048976&#45;&gt;137372504057232* -->\n<g id=\"edge28\" class=\"edge\">\n<title>137372504048976&#45;&gt;137372504057232*</title>\n<path fill=\"none\" stroke=\"black\" d=\"M197.91,-73.5C207.65,-73.5 217.05,-73.5 225.52,-73.5\"/>\n<polygon fill=\"black\" stroke=\"black\" points=\"225.7,-77 235.7,-73.5 225.7,-70 225.7,-77\"/>\n</g>\n<!-- 137372504050992 -->\n<g id=\"node20\" class=\"node\">\n<title>137372504050992</title>\n<polygon fill=\"none\" stroke=\"black\" points=\"1676.5,-136.5 1676.5,-172.5 1862.5,-172.5 1862.5,-136.5 1676.5,-136.5\"/>\n<text text-anchor=\"middle\" x=\"1686.5\" y=\"-150.8\" font-family=\"Times,serif\" font-size=\"14.00\"> </text>\n<polyline fill=\"none\" stroke=\"black\" points=\"1696.5,-136.5 1696.5,-172.5 \"/>\n<text text-anchor=\"middle\" x=\"1736.5\" y=\"-150.8\" font-family=\"Times,serif\" font-size=\"14.00\">data 1.0000</text>\n<polyline fill=\"none\" stroke=\"black\" points=\"1776.5,-136.5 1776.5,-172.5 \"/>\n<text text-anchor=\"middle\" x=\"1819.5\" y=\"-150.8\" font-family=\"Times,serif\" font-size=\"14.00\">grad &#45;0.1036</text>\n</g>\n<!-- 137372504050992&#45;&gt;137372504051232+ -->\n<g id=\"edge24\" class=\"edge\">\n<title>137372504050992&#45;&gt;137372504051232+</title>\n<path fill=\"none\" stroke=\"black\" d=\"M1862.6,-137.81C1872.15,-136.08 1881.37,-134.41 1889.68,-132.9\"/>\n<polygon fill=\"black\" stroke=\"black\" points=\"1890.43,-136.32 1899.65,-131.09 1889.18,-129.43 1890.43,-136.32\"/>\n</g>\n<!-- 137372504063856 -->\n<g id=\"node21\" class=\"node\">\n<title>137372504063856</title>\n<polygon fill=\"none\" stroke=\"black\" points=\"709,-27.5 709,-63.5 894,-63.5 894,-27.5 709,-27.5\"/>\n<text text-anchor=\"middle\" x=\"720.5\" y=\"-41.8\" font-family=\"Times,serif\" font-size=\"14.00\">b</text>\n<polyline fill=\"none\" stroke=\"black\" points=\"732,-27.5 732,-63.5 \"/>\n<text text-anchor=\"middle\" x=\"772\" y=\"-41.8\" font-family=\"Times,serif\" font-size=\"14.00\">data 6.8814</text>\n<polyline fill=\"none\" stroke=\"black\" points=\"812,-27.5 812,-63.5 \"/>\n<text text-anchor=\"middle\" x=\"853\" y=\"-41.8\" font-family=\"Times,serif\" font-size=\"14.00\">grad 0.5000</text>\n</g>\n<!-- 137372504063856&#45;&gt;137372504057280+ -->\n<g id=\"edge20\" class=\"edge\">\n<title>137372504063856&#45;&gt;137372504057280+</title>\n<path fill=\"none\" stroke=\"black\" d=\"M894.12,-58.49C916.59,-61.67 939.33,-64.89 957.33,-67.44\"/>\n<polygon fill=\"black\" stroke=\"black\" points=\"956.95,-70.93 967.34,-68.86 957.93,-63.99 956.95,-70.93\"/>\n</g>\n<!-- 137372504057232 -->\n<g id=\"node22\" class=\"node\">\n<title>137372504057232</title>\n<polygon fill=\"none\" stroke=\"black\" points=\"328.5,-55.5 328.5,-91.5 543.5,-91.5 543.5,-55.5 328.5,-55.5\"/>\n<text text-anchor=\"middle\" x=\"355\" y=\"-69.8\" font-family=\"Times,serif\" font-size=\"14.00\">x2*w2</text>\n<polyline fill=\"none\" stroke=\"black\" points=\"381.5,-55.5 381.5,-91.5 \"/>\n<text text-anchor=\"middle\" x=\"421.5\" y=\"-69.8\" font-family=\"Times,serif\" font-size=\"14.00\">data 0.0000</text>\n<polyline fill=\"none\" stroke=\"black\" points=\"461.5,-55.5 461.5,-91.5 \"/>\n<text text-anchor=\"middle\" x=\"502.5\" y=\"-69.8\" font-family=\"Times,serif\" font-size=\"14.00\">grad 0.5000</text>\n</g>\n<!-- 137372504057232&#45;&gt;137372504057040+ -->\n<g id=\"edge15\" class=\"edge\">\n<title>137372504057232&#45;&gt;137372504057040+</title>\n<path fill=\"none\" stroke=\"black\" d=\"M543.84,-90.37C554.01,-91.98 563.76,-93.51 572.44,-94.89\"/>\n<polygon fill=\"black\" stroke=\"black\" points=\"572.05,-98.37 582.47,-96.47 573.14,-91.45 572.05,-98.37\"/>\n</g>\n<!-- 137372504057232*&#45;&gt;137372504057232 -->\n<g id=\"edge8\" class=\"edge\">\n<title>137372504057232*&#45;&gt;137372504057232</title>\n<path fill=\"none\" stroke=\"black\" d=\"M290.34,-73.5C298.51,-73.5 308.08,-73.5 318.36,-73.5\"/>\n<polygon fill=\"black\" stroke=\"black\" points=\"318.39,-77 328.39,-73.5 318.39,-70 318.39,-77\"/>\n</g>\n<!-- 137372504063904 -->\n<g id=\"node24\" class=\"node\">\n<title>137372504063904</title>\n<polygon fill=\"none\" stroke=\"black\" points=\"4,-0.5 4,-36.5 196,-36.5 196,-0.5 4,-0.5\"/>\n<text text-anchor=\"middle\" x=\"19\" y=\"-14.8\" font-family=\"Times,serif\" font-size=\"14.00\">x2</text>\n<polyline fill=\"none\" stroke=\"black\" points=\"34,-0.5 34,-36.5 \"/>\n<text text-anchor=\"middle\" x=\"74\" y=\"-14.8\" font-family=\"Times,serif\" font-size=\"14.00\">data 0.0000</text>\n<polyline fill=\"none\" stroke=\"black\" points=\"114,-0.5 114,-36.5 \"/>\n<text text-anchor=\"middle\" x=\"155\" y=\"-14.8\" font-family=\"Times,serif\" font-size=\"14.00\">grad 0.5000</text>\n</g>\n<!-- 137372504063904&#45;&gt;137372504057232* -->\n<g id=\"edge21\" class=\"edge\">\n<title>137372504063904&#45;&gt;137372504057232*</title>\n<path fill=\"none\" stroke=\"black\" d=\"M172.53,-36.56C181.84,-39.33 191.2,-42.33 200,-45.5 210.53,-49.29 221.75,-54.1 231.72,-58.67\"/>\n<polygon fill=\"black\" stroke=\"black\" points=\"230.28,-61.86 240.82,-62.93 233.25,-55.52 230.28,-61.86\"/>\n</g>\n<!-- 137372504057280 -->\n<g id=\"node25\" class=\"node\">\n<title>137372504057280</title>\n<polygon fill=\"none\" stroke=\"black\" points=\"1057,-54.5 1057,-90.5 1242,-90.5 1242,-54.5 1057,-54.5\"/>\n<text text-anchor=\"middle\" x=\"1068.5\" y=\"-68.8\" font-family=\"Times,serif\" font-size=\"14.00\">n</text>\n<polyline fill=\"none\" stroke=\"black\" points=\"1080,-54.5 1080,-90.5 \"/>\n<text text-anchor=\"middle\" x=\"1120\" y=\"-68.8\" font-family=\"Times,serif\" font-size=\"14.00\">data 0.8814</text>\n<polyline fill=\"none\" stroke=\"black\" points=\"1160,-54.5 1160,-90.5 \"/>\n<text text-anchor=\"middle\" x=\"1201\" y=\"-68.8\" font-family=\"Times,serif\" font-size=\"14.00\">grad 0.5000</text>\n</g>\n<!-- 137372504057280&#45;&gt;137372504051520* -->\n<g id=\"edge27\" class=\"edge\">\n<title>137372504057280&#45;&gt;137372504051520*</title>\n<path fill=\"none\" stroke=\"black\" d=\"M1242.01,-88.6C1251.49,-90.26 1260.66,-91.88 1268.9,-93.33\"/>\n<polygon fill=\"black\" stroke=\"black\" points=\"1268.36,-96.78 1278.81,-95.07 1269.57,-89.89 1268.36,-96.78\"/>\n</g>\n<!-- 137372504057280+&#45;&gt;137372504057280 -->\n<g id=\"edge9\" class=\"edge\">\n<title>137372504057280+&#45;&gt;137372504057280</title>\n<path fill=\"none\" stroke=\"black\" d=\"M1021.04,-72.5C1028.58,-72.5 1037.3,-72.5 1046.57,-72.5\"/>\n<polygon fill=\"black\" stroke=\"black\" points=\"1046.81,-76 1056.81,-72.5 1046.81,-69 1046.81,-76\"/>\n</g>\n<!-- 137372504050656 -->\n<g id=\"node27\" class=\"node\">\n<title>137372504050656</title>\n<polygon fill=\"none\" stroke=\"black\" points=\"2429,-106.5 2429,-142.5 2611,-142.5 2611,-106.5 2429,-106.5\"/>\n<text text-anchor=\"middle\" x=\"2439\" y=\"-120.8\" font-family=\"Times,serif\" font-size=\"14.00\"> </text>\n<polyline fill=\"none\" stroke=\"black\" points=\"2449,-106.5 2449,-142.5 \"/>\n<text text-anchor=\"middle\" x=\"2489\" y=\"-120.8\" font-family=\"Times,serif\" font-size=\"14.00\">data 0.1464</text>\n<polyline fill=\"none\" stroke=\"black\" points=\"2529,-106.5 2529,-142.5 \"/>\n<text text-anchor=\"middle\" x=\"2570\" y=\"-120.8\" font-family=\"Times,serif\" font-size=\"14.00\">grad 4.8284</text>\n</g>\n<!-- 137372504050656&#45;&gt;137372504055360* -->\n<g id=\"edge14\" class=\"edge\">\n<title>137372504050656&#45;&gt;137372504055360*</title>\n<path fill=\"none\" stroke=\"black\" d=\"M2611.18,-109.08C2620.42,-107.49 2629.38,-105.96 2637.47,-104.58\"/>\n<polygon fill=\"black\" stroke=\"black\" points=\"2638.29,-107.99 2647.56,-102.85 2637.11,-101.09 2638.29,-107.99\"/>\n</g>\n<!-- 137372504050656**&#45;1&#45;&gt;137372504050656 -->\n<g id=\"edge10\" class=\"edge\">\n<title>137372504050656**&#45;1&#45;&gt;137372504050656</title>\n<path fill=\"none\" stroke=\"black\" d=\"M2329.05,-126.26C2351.53,-126.05 2385.48,-125.74 2418.5,-125.43\"/>\n<polygon fill=\"black\" stroke=\"black\" points=\"2418.74,-128.93 2428.7,-125.34 2418.67,-121.93 2418.74,-128.93\"/>\n</g>\n</g>\n</svg>\n",
            "text/plain": [
              "<graphviz.graphs.Digraph at 0x7cf0874e53f0>"
            ]
          },
          "metadata": {},
          "execution_count": 94
        }
      ]
    },
    {
      "cell_type": "code",
      "source": [
        "import random\n",
        "\n",
        "class Neuron:\n",
        "  def __init__(self, nin):\n",
        "    self.w = [Value(random.uniform(-1, 1)) for _ in range(nin)]\n",
        "    self.b = Value(random.uniform(-1, 1))\n",
        "\n",
        "  def __call__(self, x):\n",
        "    # w * x + b\n",
        "    act = sum([w * x for w, x in zip(self.w, x)], self.b)\n",
        "    out = act.tanh()\n",
        "    return out\n",
        "\n",
        "  def parameters(self):\n",
        "    return self.w + [self.b]\n",
        "\n",
        "\n",
        "class Layer:\n",
        "  def __init__(self, nin, nout):\n",
        "    self.neurons = [Neuron(nin) for _ in range(nout)]\n",
        "\n",
        "  def __call__(self, x):\n",
        "    outs = [n(x) for n in self.neurons]\n",
        "    return outs[0] if len(outs) == 1 else outs\n",
        "\n",
        "  def parameters(self):\n",
        "    return [p for neuron in self.neurons for p in neuron.parameters()]\n",
        "\n",
        "class MLP:\n",
        "  def __init__(self, nin, nouts):\n",
        "    sz = [nin] + nouts\n",
        "    self.layers = [Layer(sz[i], sz[i + 1]) for i in range(len(nouts))]\n",
        "\n",
        "  def __call__(self, x):\n",
        "    for layer in self.layers:\n",
        "      x = layer(x)\n",
        "    # return the last layer which would be the output layer\n",
        "    return x\n",
        "\n",
        "  def parameters(self):\n",
        "    return [p for layer in self.layers for p in layer.parameters()]\n"
      ],
      "metadata": {
        "id": "am-CLvE0-qTW"
      },
      "execution_count": 129,
      "outputs": []
    },
    {
      "cell_type": "code",
      "source": [
        "1"
      ],
      "metadata": {
        "colab": {
          "base_uri": "https://localhost:8080/"
        },
        "id": "OnOPBCdae9lJ",
        "outputId": "87543245-256b-4b52-cb48-a1d269601bf7"
      },
      "execution_count": 250,
      "outputs": [
        {
          "output_type": "execute_result",
          "data": {
            "text/plain": [
              "[Value(data=0.2133796939832304),\n",
              " Value(data=0.7820602513539208),\n",
              " Value(data=0.29268115031500586),\n",
              " Value(data=0.7374090022004072)]"
            ]
          },
          "metadata": {},
          "execution_count": 250
        }
      ]
    },
    {
      "cell_type": "code",
      "source": [
        "# Train the network for more iterations\n",
        "for k in range(1000):\n",
        "  # forward pass\n",
        "  ypred = [n(x) for x in xs]\n",
        "  loss = sum([(ygt - yout)**2 for ygt, yout in zip(ys, ypred)])\n",
        "\n",
        "  # backward pass\n",
        "  for p in n.parameters():\n",
        "    p.grad = 0.0\n",
        "  loss.backward()\n",
        "\n",
        "  # update\n",
        "  for p in n.parameters():\n",
        "    p.data += -0.01 * p.grad  # smaller learning rate\n",
        "\n",
        "  if k % 100 == 0:  # print every 100 iterations\n",
        "    print(k, loss.data)\n"
      ],
      "metadata": {
        "colab": {
          "base_uri": "https://localhost:8080/"
        },
        "id": "kxzk3MP8lZkh",
        "outputId": "d673c715-e20f-4b2c-ab7a-cfd1a26e58d9"
      },
      "execution_count": 251,
      "outputs": [
        {
          "output_type": "stream",
          "name": "stdout",
          "text": [
            "0 1.1371006194901967\n",
            "100 0.949178118357269\n",
            "200 0.912166880503952\n",
            "300 0.8784043052952277\n",
            "400 0.8403808770860152\n",
            "500 0.7924577833063907\n",
            "600 0.7244873251802306\n",
            "700 0.6177798569897371\n",
            "800 0.4616639726654399\n",
            "900 0.3038266806861749\n"
          ]
        }
      ]
    },
    {
      "cell_type": "code",
      "source": [
        "ypred"
      ],
      "metadata": {
        "colab": {
          "base_uri": "https://localhost:8080/"
        },
        "id": "Qh8uEGcXmKn-",
        "outputId": "90297cb3-2d2c-457a-a459-396b4b2f6672"
      },
      "execution_count": 252,
      "outputs": [
        {
          "output_type": "execute_result",
          "data": {
            "text/plain": [
              "[Value(data=0.08460999207403053),\n",
              " Value(data=0.7648991395956201),\n",
              " Value(data=0.6736244348348751),\n",
              " Value(data=0.1556687388313784)]"
            ]
          },
          "metadata": {},
          "execution_count": 252
        }
      ]
    }
  ]
}